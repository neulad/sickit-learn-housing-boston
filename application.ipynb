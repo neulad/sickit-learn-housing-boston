{
 "cells": [
  {
   "cell_type": "code",
   "execution_count": 1,
   "metadata": {},
   "outputs": [],
   "source": [
    "import numpy as np\n",
    "import pandas as pd\n",
    "import matplotlib.pyplot as plt"
   ]
  },
  {
   "cell_type": "code",
   "execution_count": 11,
   "metadata": {},
   "outputs": [
    {
     "data": {
      "text/html": [
       "<div>\n",
       "<style scoped>\n",
       "    .dataframe tbody tr th:only-of-type {\n",
       "        vertical-align: middle;\n",
       "    }\n",
       "\n",
       "    .dataframe tbody tr th {\n",
       "        vertical-align: top;\n",
       "    }\n",
       "\n",
       "    .dataframe thead th {\n",
       "        text-align: right;\n",
       "    }\n",
       "</style>\n",
       "<table border=\"1\" class=\"dataframe\">\n",
       "  <thead>\n",
       "    <tr style=\"text-align: right;\">\n",
       "      <th></th>\n",
       "      <th>Vladimir</th>\n",
       "      <th>Petya</th>\n",
       "      <th>Artemiy</th>\n",
       "      <th>Kolya</th>\n",
       "    </tr>\n",
       "  </thead>\n",
       "  <tbody>\n",
       "    <tr>\n",
       "      <th>July</th>\n",
       "      <td>3</td>\n",
       "      <td>8</td>\n",
       "      <td>9</td>\n",
       "      <td>10</td>\n",
       "    </tr>\n",
       "  </tbody>\n",
       "</table>\n",
       "</div>"
      ],
      "text/plain": [
       "      Vladimir  Petya  Artemiy  Kolya\n",
       "July         3      8        9     10"
      ]
     },
     "execution_count": 11,
     "metadata": {},
     "output_type": "execute_result"
    },
    {
     "data": {
      "image/png": "[encoded data removed]",
      "text/plain": [
       "<Figure size 432x288 with 3 Axes>"
      ]
     },
     "metadata": {
      "needs_background": "light"
     },
     "output_type": "display_data"
    }
   ],
   "source": [
    "a = np.array([[1, 2]])\n",
    "b = np.array([[3], [2]])\n",
    "sum_of_x_and_y = np.dot(a, b).flatten().reshape(1, 1)\n",
    "df = pd.DataFrame([[1, 2, 3, 4], [1, 5, 6, 7], [3, 8, 9, 10]], index=[\"September\", \"Jun\", \"July\"], columns=[\"Vladimir\", \"Petya\", \"Artemiy\", \"Kolya\"])\n",
    "x = np.arange(-5., 5.1, 0.1)\n",
    "y = [i ** 2 for i in x]\n",
    "plt.subplot(131)\n",
    "plt.plot(x, y, \"r--\", linewidth=3)\n",
    "plt.subplot(132)\n",
    "plt.scatter([1, 2, 3, 4], [5, 6, 7, 8])\n",
    "plt.subplot(133)\n",
    "plt.scatter(np.random.randint(-5, 5, 15), np.random.randint(0, 25, 15))\n",
    "df[df[\"Vladimir\"] > 1]"
   ]
  }
 ],
 "metadata": {
  "kernelspec": {
   "display_name": "Python 3",
   "language": "python",
   "name": "python3"
  },
  "language_info": {
   "codemirror_mode": {
    "name": "ipython",
    "version": 3
   },
   "file_extension": ".py",
   "mimetype": "text/x-python",
   "name": "python",
   "nbconvert_exporter": "python",
   "pygments_lexer": "ipython3",
   "version": "3.7.3"
  }
 },
 "nbformat": 4,
 "nbformat_minor": 2
}
